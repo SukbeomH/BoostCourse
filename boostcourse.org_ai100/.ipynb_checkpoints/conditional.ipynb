{
 "cells": [
  {
   "cell_type": "markdown",
   "metadata": {},
   "source": [
    "#  Conditional (조건문)"
   ]
  },
  {
   "cell_type": "code",
   "execution_count": 7,
   "metadata": {},
   "outputs": [
    {
     "name": "stdout",
     "output_type": "stream",
     "text": [
      "True\n"
     ]
    }
   ],
   "source": [
    "num = 0\n",
    "\n",
    "if 1 and 1: # num == 1\n",
    "    print('True')\n",
    "elif num or 1: # num != 1\n",
    "    print('False')\n",
    "else:\n",
    "    print('None')\n",
    "    "
   ]
  },
  {
   "cell_type": "markdown",
   "metadata": {},
   "source": [
    "#  Logic Expression"
   ]
  },
  {
   "cell_type": "markdown",
   "metadata": {},
   "source": [
    "## 1. 논리 연산자\n",
    "- and : 논리곱\n",
    "- or : 논리합\n",
    "- not : 논리 부정\n",
    "\n",
    "## 2. 비교 연산자\n",
    "- == : 같다\n",
    "- != : 같지 않다\n",
    "- < : 작다\n",
    "- > : 크다\n",
    "- <= : 작거나 같다\n",
    "- >= : 크거나 같다\n",
    "\n",
    "## 3. 조건문\n",
    "- if : 만약에\n",
    "- elif : 그렇지 않고 만약에\n",
    "- else : 그렇지 않으면\n",
    "\n",
    "## 4. 삼항 연산자\n",
    "- A if 조건 else B\n",
    "\n",
    "## 5. 단축 평가\n",
    "- and : 둘 다 참이어야 참\n",
    "- or : 둘 중 하나만 참이어도 참"
   ]
  },
  {
   "cell_type": "markdown",
   "metadata": {},
   "source": []
  }
 ],
 "metadata": {
  "kernelspec": {
   "display_name": "base",
   "language": "python",
   "name": "python3"
  },
  "language_info": {
   "codemirror_mode": {
    "name": "ipython",
    "version": 3
   },
   "file_extension": ".py",
   "mimetype": "text/x-python",
   "name": "python",
   "nbconvert_exporter": "python",
   "pygments_lexer": "ipython3",
   "version": "3.1.-1"
  }
 },
 "nbformat": 4,
 "nbformat_minor": 2
}
