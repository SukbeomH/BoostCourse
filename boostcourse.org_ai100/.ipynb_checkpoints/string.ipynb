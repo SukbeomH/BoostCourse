{
 "cells": [
  {
   "cell_type": "code",
   "execution_count": null,
   "metadata": {},
   "outputs": [],
   "source": []
  },
  {
   "cell_type": "markdown",
   "metadata": {},
   "source": [
    "# Call by Object Reference\n",
    "\n",
    "## Introduction\n",
    "### In Python, the value of a variable is a reference to an object. When you pass a variable to a function, you are passing this reference. This is called \"Call by Object Reference\". This is different from \"Call by Value\" and \"Call by Reference\" in other languages.\n",
    "\n",
    "Call by Value: The value of the variable is passed to the function. The function cannot change the value of the variable outside the function.\n",
    "- 값에 의한 호출: 변수의 값이 함수에 전달됩니다. 함수는 함수 외부에서 변수의 값을 변경할 수 없습니다.\n",
    "- 호출자는 함수에 의해 영향을 받지 않습니다.\n",
    "Call by Reference: The address of the variable is passed to the function. The function can change the value of the variable outside the function.\n",
    "- 참조에 의한 호출: 변수의 주소가 함수에 전달됩니다. 함수는 함수 외부에서 변수의 값을 변경할 수 있습니다.\n",
    "- 호출자는 함수에 의해 영향을 받습니다.\n",
    "- 함수에서 인자의 값을 변화시키면 호출자에게도 영향을 줍니다.\n",
    "Call by Object Reference: The reference to the object is passed to the function. The function can change the value of the object outside the function.\n",
    "- 객체 참조에 의한 호출: 객체에 대한 참조가 함수에 전달됩니다. 함수는 함수 외부에서 객체의 값을 변경할 수 있습니다.\n",
    "- 호출자는 함수에 의해 영향을 받습니다.\n",
    "- 함수에서 객체의 값을 변화시키면 호출자에게도 영향을 줍니다.\n",
    "\n",
    "## 함수에서 Parameter를 전달하는 방식의 차이\n",
    "### 함수에 전달된 인수는 함수 내부에서 변경될 수 있습니다. 이것은 함수가 인수를 참조로 전달하기 때문입니다. 함수 내부에서 인수를 변경하면 함수 외부에서도 변경됩니다. 이것은 Call by Object Reference로 알려져 있습니다.\n"
   ]
  }
 ],
 "metadata": {
  "language_info": {
   "name": "python"
  }
 },
 "nbformat": 4,
 "nbformat_minor": 2
}
