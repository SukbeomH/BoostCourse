{
 "cells": [
  {
   "cell_type": "code",
   "execution_count": 3,
   "id": "e83fc79e-0d25-4930-a41a-5981c62d3d94",
   "metadata": {},
   "outputs": [],
   "source": [
    "import numpy as np"
   ]
  },
  {
   "cell_type": "code",
   "execution_count": 5,
   "id": "f26b1c2d-3975-416d-a613-8cd49d53fa14",
   "metadata": {},
   "outputs": [],
   "source": [
    "test_arr = np.array([1,1,1,2], float)"
   ]
  },
  {
   "cell_type": "code",
   "execution_count": 6,
   "id": "ebc5f8c9-a77d-4dd8-8250-ae3ed206e2c9",
   "metadata": {},
   "outputs": [
    {
     "data": {
      "text/plain": [
       "numpy.ndarray"
      ]
     },
     "execution_count": 6,
     "metadata": {},
     "output_type": "execute_result"
    }
   ],
   "source": [
    "type(test_arr)"
   ]
  },
  {
   "cell_type": "code",
   "execution_count": 7,
   "id": "6d815e72-6824-4804-bf6a-bd8947f4188a",
   "metadata": {},
   "outputs": [
    {
     "name": "stdout",
     "output_type": "stream",
     "text": [
      "[1. 1. 1. 2.]\n"
     ]
    }
   ],
   "source": [
    "print(test_arr)"
   ]
  }
 ],
 "metadata": {
  "kernelspec": {
   "display_name": "Python 3 (ipykernel)",
   "language": "python",
   "name": "python3"
  },
  "language_info": {
   "codemirror_mode": {
    "name": "ipython",
    "version": 3
   },
   "file_extension": ".py",
   "mimetype": "text/x-python",
   "name": "python",
   "nbconvert_exporter": "python",
   "pygments_lexer": "ipython3",
   "version": "3.8.19"
  }
 },
 "nbformat": 4,
 "nbformat_minor": 5
}
